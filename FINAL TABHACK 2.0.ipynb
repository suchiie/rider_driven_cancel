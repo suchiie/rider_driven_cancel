{
 "cells": [
  {
   "cell_type": "code",
   "execution_count": 1,
   "id": "4fdcfaea",
   "metadata": {},
   "outputs": [],
   "source": [
    "import pandas as pd\n",
    "import numpy as np\n",
    "from sklearn.decomposition import PCA\n",
    "from sklearn.preprocessing import OneHotEncoder\n",
    "from imblearn.under_sampling import RandomUnderSampler\n",
    "from sklearn.model_selection import StratifiedKFold\n",
    "import xgboost\n",
    "from sklearn.linear_model import LogisticRegression\n",
    "import lightgbm as lgb\n",
    "from sklearn import ensemble\n",
    "from sklearn.metrics import roc_auc_score\n",
    "import warnings\n",
    "warnings.filterwarnings(\"ignore\")\n",
    "from sklearn.model_selection import train_test_split"
   ]
  },
  {
   "cell_type": "code",
   "execution_count": 2,
   "id": "4b231b36",
   "metadata": {},
   "outputs": [],
   "source": [
    "df = pd.read_csv('Week8_train.csv')\n",
    "df_test = pd.read_csv('Week8_test.csv') "
   ]
  },
  {
   "cell_type": "code",
   "execution_count": 219,
   "id": "6f9995ff",
   "metadata": {},
   "outputs": [],
   "source": [
    "df.drop(['PARTY_ID'], axis =1, inplace =True)\n",
    "df_test.drop(['PARTY_ID'], axis =1, inplace =True)"
   ]
  },
  {
   "cell_type": "code",
   "execution_count": 220,
   "id": "36a8616c",
   "metadata": {},
   "outputs": [
    {
     "data": {
      "text/plain": [
       "Index(['V_245', 'V_271', 'V_301', 'V_304', 'V_316', 'V_400', 'V_410', 'V_434'], dtype='object')"
      ]
     },
     "execution_count": 220,
     "metadata": {},
     "output_type": "execute_result"
    }
   ],
   "source": [
    "df.select_dtypes(object).columns"
   ]
  },
  {
   "cell_type": "code",
   "execution_count": 221,
   "id": "17226be8",
   "metadata": {},
   "outputs": [
    {
     "data": {
      "text/plain": [
       "Index(['V_245', 'V_271', 'V_301', 'V_304', 'V_316', 'V_400', 'V_410', 'V_434'], dtype='object')"
      ]
     },
     "execution_count": 221,
     "metadata": {},
     "output_type": "execute_result"
    }
   ],
   "source": [
    "df_test.select_dtypes(object).columns"
   ]
  },
  {
   "cell_type": "code",
   "execution_count": 222,
   "id": "f3ab2773",
   "metadata": {},
   "outputs": [],
   "source": [
    "def ohe(df, col, variables):\n",
    "    for i in variables:\n",
    "        df[col+'_'+i] = np.where(df[col]==i, 1,0)"
   ]
  },
  {
   "cell_type": "code",
   "execution_count": 223,
   "id": "fbf47850",
   "metadata": {},
   "outputs": [],
   "source": [
    "df.V_301.fillna('Financials', inplace=True)\n",
    "df_test.V_301.fillna('Financials', inplace=True)\n",
    "df.V_434.fillna('Commercial Banks', inplace=True)\n",
    "df_test.V_434.fillna('Commercial Banks', inplace=True)\n",
    "df.dropna(axis = 0, how= 'any', inplace = True)"
   ]
  },
  {
   "cell_type": "code",
   "execution_count": 224,
   "id": "bdd9f341",
   "metadata": {},
   "outputs": [],
   "source": [
    "cols = ['V_245', 'V_271', 'V_301', 'V_304', 'V_316', 'V_400', 'V_410', 'V_434']"
   ]
  },
  {
   "cell_type": "code",
   "execution_count": 225,
   "id": "2091535e",
   "metadata": {},
   "outputs": [],
   "source": [
    "l1 = df.V_245.unique()\n",
    "l2= df.V_271.unique()\n",
    "l3= df.V_301.unique()\n",
    "l4= df.V_304.unique()\n",
    "l5= df.V_316.unique()\n",
    "l6= df.V_400.unique()\n",
    "l7= df.V_410.unique()\n",
    "l8= df.V_434.unique()"
   ]
  },
  {
   "cell_type": "code",
   "execution_count": 226,
   "id": "62b5cb3c",
   "metadata": {},
   "outputs": [],
   "source": [
    "ohe(df, 'V_245', l1 )\n",
    "ohe(df, 'V_271', l2 )\n",
    "ohe(df, 'V_301', l3 )\n",
    "ohe(df, 'V_304', l4 )\n",
    "ohe(df, 'V_316', l5 )\n",
    "ohe(df, 'V_400', l6 )\n",
    "ohe(df, 'V_410', l7 )\n",
    "ohe(df, 'V_434', l8 )"
   ]
  },
  {
   "cell_type": "code",
   "execution_count": 227,
   "id": "32787f38",
   "metadata": {},
   "outputs": [],
   "source": [
    "ohe(df_test, 'V_245', l1 )\n",
    "ohe(df_test, 'V_271', l2 )\n",
    "ohe(df_test, 'V_301', l3 )\n",
    "ohe(df_test, 'V_304', l4 )\n",
    "ohe(df_test, 'V_316', l5 )\n",
    "ohe(df_test, 'V_400', l6 )\n",
    "ohe(df_test, 'V_410', l7 )\n",
    "ohe(df_test, 'V_434', l8 )"
   ]
  },
  {
   "cell_type": "code",
   "execution_count": 228,
   "id": "cd33e793",
   "metadata": {},
   "outputs": [],
   "source": [
    "df.drop(['V_245', 'V_271', 'V_301', 'V_304', 'V_316', 'V_400', 'V_410', 'V_434'], axis=1, inplace= True)\n",
    "df_test.drop(['V_245', 'V_271', 'V_301', 'V_304', 'V_316', 'V_400', 'V_410', 'V_434'], axis=1, inplace= True)"
   ]
  },
  {
   "cell_type": "code",
   "execution_count": 229,
   "id": "12227cd4",
   "metadata": {},
   "outputs": [],
   "source": [
    "X= df.drop(['id', 'TARGET'], axis=1)\n",
    "y = df.TARGET"
   ]
  },
  {
   "cell_type": "code",
   "execution_count": 56,
   "id": "2ff0d33f",
   "metadata": {},
   "outputs": [],
   "source": [
    "def create_folds(dfv, num_splits):\n",
    "    dfv[\"kfold\"] = -1\n",
    "    dfv = dfv.sample(frac=1).reset_index(drop=True)\n",
    "    kf = StratifiedKFold(n_splits=num_splits)\n",
    "    for f, (t_, v_) in enumerate(kf.split(X = X, y= y)):\n",
    "        dfv.loc[v_, 'kfold'] = f\n",
    "    return dfv"
   ]
  },
  {
   "cell_type": "code",
   "execution_count": 57,
   "id": "952bc116",
   "metadata": {},
   "outputs": [],
   "source": [
    "df = create_folds(df, 3)"
   ]
  },
  {
   "cell_type": "code",
   "execution_count": 59,
   "id": "b8768661",
   "metadata": {},
   "outputs": [],
   "source": [
    "rf_test_pred = []\n",
    "rf_valid_pred = {}\n",
    "gbm_test_pred = []\n",
    "gbm_valid_pred = {}\n",
    "xgb_test_pred = []\n",
    "xgb_valid_pred = {}\n",
    "lg_test_pred = []\n",
    "lg_valid_pred = {}"
   ]
  },
  {
   "cell_type": "code",
   "execution_count": 60,
   "id": "a54c48e9",
   "metadata": {},
   "outputs": [
    {
     "data": {
      "text/plain": [
       "0    36446\n",
       "1    36446\n",
       "2    36446\n",
       "Name: kfold, dtype: int64"
      ]
     },
     "execution_count": 60,
     "metadata": {},
     "output_type": "execute_result"
    }
   ],
   "source": [
    "df.kfold.value_counts()"
   ]
  },
  {
   "cell_type": "code",
   "execution_count": 126,
   "id": "5a0f78b7",
   "metadata": {},
   "outputs": [],
   "source": [
    "for i in range(3):\n",
    "    dftrain = df[df.kfold!=i].reset_index(drop = True)\n",
    "    dfvalid = df[df.kfold==i].reset_index(drop = True)\n",
    "    xtest = df_test.copy()\n",
    "    \n",
    "    xtrain = dftrain.drop(['TARGET', 'kfold'], axis= 1)\n",
    "    xvalid = dfvalid.drop (['TARGET', 'kfold'], axis= 1)\n",
    "    ytrain = dftrain.TARGET\n",
    "    yvalid = dfvalid.TARGET\n",
    "    \n",
    "    valid_ids = xvalid['id'].values.tolist()\n",
    "    \n",
    "    undersample = RandomUnderSampler(sampling_strategy= 0.5 , random_state = 5)\n",
    "    xtrain,ytrain = undersample.fit_resample(xtrain,ytrain)\n",
    "    \n",
    "    model_1 = ensemble.RandomForestClassifier()\n",
    "        \n",
    "    model_1.fit(xtrain, ytrain)\n",
    "    preds_valid_1 = model_1.predict_proba(xvalid)[:,1]\n",
    "    test_preds_1 = model_1.predict_proba(xtest)[:,1]\n",
    "    rf_test_pred.append(test_preds_1)\n",
    "    rf_valid_pred.update(dict(zip(valid_ids, preds_valid_1)))\n",
    "    \n",
    "    model_2 = ensemble.GradientBoostingClassifier()\n",
    "        \n",
    "    model_2.fit(xtrain,ytrain)\n",
    "    preds_valid_2 = model_2.predict_proba(xvalid)[:,1]\n",
    "    test_preds_2 = model_2.predict_proba(xtest)[:,1]\n",
    "    gbm_test_pred.append(test_preds_2)\n",
    "    gbm_valid_pred.update(dict(zip(valid_ids, preds_valid_2)))\n",
    "    \n",
    "    model_3 = xgboost.XGBClassifier()\n",
    "        \n",
    "    model_3.fit(xtrain,ytrain)\n",
    "    preds_valid_3 = model_3.predict_proba(xvalid)[:,1]\n",
    "    test_preds_3 = model_3.predict_proba(xtest)[:,1]\n",
    "    xgb_test_pred.append(test_preds_3)\n",
    "    xgb_valid_pred.update(dict(zip(valid_ids, preds_valid_3)))\n",
    "    "
   ]
  },
  {
   "cell_type": "code",
   "execution_count": 127,
   "id": "560e62b2",
   "metadata": {},
   "outputs": [],
   "source": [
    "from sklearn.preprocessing import MinMaxScaler\n",
    "scale = MinMaxScaler()\n",
    "df_scale = df.copy()\n",
    "df_scale.iloc[:,1:-1] = scale.fit_transform(df_scale.iloc[:, 1:-1])"
   ]
  },
  {
   "cell_type": "code",
   "execution_count": 128,
   "id": "c0c1c177",
   "metadata": {},
   "outputs": [],
   "source": [
    "dft_scale = df_test.copy()\n",
    "dft_scale.iloc[:,1:] = scale.fit_transform(dft_scale.iloc[:, 1:])"
   ]
  },
  {
   "cell_type": "code",
   "execution_count": 129,
   "id": "823a1f87",
   "metadata": {},
   "outputs": [],
   "source": [
    "for i in range(3):\n",
    "    dftrain = df[df.kfold!=i].reset_index(drop = True)\n",
    "    dfvalid = df[df.kfold==i].reset_index(drop = True)\n",
    "    xtest = df_test.copy()\n",
    "    \n",
    "    xtrain = dftrain.drop(['TARGET', 'kfold'], axis= 1)\n",
    "    xvalid = dfvalid.drop (['TARGET', 'kfold'], axis= 1)\n",
    "    ytrain = dftrain.TARGET\n",
    "    yvalid = dfvalid.TARGET\n",
    "    \n",
    "    valid_ids = xvalid['id'].values.tolist()\n",
    "    \n",
    "    undersample = RandomUnderSampler(sampling_strategy= 0.5 , random_state = 5)\n",
    "    xtrain,ytrain = undersample.fit_resample(xtrain,ytrain)\n",
    "    \n",
    "    model_4 = LogisticRegression()\n",
    "        \n",
    "    model_4.fit(xtrain,ytrain)\n",
    "    preds_valid_4 = model_4.predict_proba(xvalid)[:,1]\n",
    "    test_preds_4 = model_4.predict_proba(xtest)[:,1]\n",
    "    lg_test_pred.append(test_preds_4)\n",
    "    lg_valid_pred.update(dict(zip(valid_ids, preds_valid_4)))"
   ]
  },
  {
   "cell_type": "code",
   "execution_count": 130,
   "id": "598c0bb2",
   "metadata": {},
   "outputs": [
    {
     "data": {
      "text/plain": [
       "473"
      ]
     },
     "execution_count": 130,
     "metadata": {},
     "output_type": "execute_result"
    }
   ],
   "source": [
    "df.columns.get_loc('TARGET')"
   ]
  },
  {
   "cell_type": "code",
   "execution_count": 168,
   "id": "be6891fb",
   "metadata": {},
   "outputs": [],
   "source": [
    "sample= pd.DataFrame(df_test.iloc[:,0])"
   ]
  },
  {
   "cell_type": "code",
   "execution_count": 149,
   "id": "eae88a29",
   "metadata": {},
   "outputs": [],
   "source": [
    "df = df.merge(rf_valid_pred, on = 'id', how = 'left')"
   ]
  },
  {
   "cell_type": "code",
   "execution_count": 145,
   "id": "c4503963",
   "metadata": {},
   "outputs": [],
   "source": [
    "gbm_valid_pred = pd.DataFrame.from_dict(gbm_valid_pred, orient=\"index\").reset_index()\n",
    "gbm_valid_pred.columns = [\"id\", \"pred_2\"]\n",
    "df = df.merge(gbm_valid_pred, on = 'id', how = 'left')\n",
    "\n",
    "xgb_valid_pred = pd.DataFrame.from_dict(xgb_valid_pred, orient=\"index\").reset_index()\n",
    "xgb_valid_pred.columns = [\"id\", \"pred_3\"]\n",
    "df = df.merge(xgb_valid_pred, on = 'id', how = 'left')\n",
    "\n",
    "lg_valid_pred = pd.DataFrame.from_dict(lg_valid_pred, orient=\"index\").reset_index()\n",
    "lg_valid_pred.columns = [\"id\", \"pred_4\"]\n",
    "df = df.merge(lg_valid_pred, on = 'id', how = 'left')"
   ]
  },
  {
   "cell_type": "code",
   "execution_count": 150,
   "id": "950e7333",
   "metadata": {},
   "outputs": [
    {
     "data": {
      "text/html": [
       "<div>\n",
       "<style scoped>\n",
       "    .dataframe tbody tr th:only-of-type {\n",
       "        vertical-align: middle;\n",
       "    }\n",
       "\n",
       "    .dataframe tbody tr th {\n",
       "        vertical-align: top;\n",
       "    }\n",
       "\n",
       "    .dataframe thead th {\n",
       "        text-align: right;\n",
       "    }\n",
       "</style>\n",
       "<table border=\"1\" class=\"dataframe\">\n",
       "  <thead>\n",
       "    <tr style=\"text-align: right;\">\n",
       "      <th></th>\n",
       "      <th>id</th>\n",
       "      <th>V_1</th>\n",
       "      <th>V_2</th>\n",
       "      <th>V_3</th>\n",
       "      <th>V_4</th>\n",
       "      <th>V_5</th>\n",
       "      <th>V_6</th>\n",
       "      <th>V_7</th>\n",
       "      <th>V_8</th>\n",
       "      <th>V_9</th>\n",
       "      <th>...</th>\n",
       "      <th>V_434_Health Care Technology</th>\n",
       "      <th>V_434_Real Estate Investment Trusts</th>\n",
       "      <th>V_434_Provincial</th>\n",
       "      <th>V_434_Internet &amp; Catalog Retail</th>\n",
       "      <th>V_434_Libraries</th>\n",
       "      <th>kfold</th>\n",
       "      <th>pred_2</th>\n",
       "      <th>pred_3</th>\n",
       "      <th>pred_4</th>\n",
       "      <th>pred_1</th>\n",
       "    </tr>\n",
       "  </thead>\n",
       "  <tbody>\n",
       "    <tr>\n",
       "      <th>0</th>\n",
       "      <td>64724</td>\n",
       "      <td>0</td>\n",
       "      <td>0</td>\n",
       "      <td>0</td>\n",
       "      <td>0</td>\n",
       "      <td>0</td>\n",
       "      <td>0</td>\n",
       "      <td>0</td>\n",
       "      <td>1</td>\n",
       "      <td>0</td>\n",
       "      <td>...</td>\n",
       "      <td>0</td>\n",
       "      <td>0</td>\n",
       "      <td>0</td>\n",
       "      <td>0</td>\n",
       "      <td>0</td>\n",
       "      <td>0</td>\n",
       "      <td>0.212555</td>\n",
       "      <td>0.159930</td>\n",
       "      <td>0.356627</td>\n",
       "      <td>0.27</td>\n",
       "    </tr>\n",
       "    <tr>\n",
       "      <th>1</th>\n",
       "      <td>92844</td>\n",
       "      <td>0</td>\n",
       "      <td>0</td>\n",
       "      <td>0</td>\n",
       "      <td>0</td>\n",
       "      <td>0</td>\n",
       "      <td>0</td>\n",
       "      <td>0</td>\n",
       "      <td>1</td>\n",
       "      <td>0</td>\n",
       "      <td>...</td>\n",
       "      <td>0</td>\n",
       "      <td>0</td>\n",
       "      <td>0</td>\n",
       "      <td>0</td>\n",
       "      <td>0</td>\n",
       "      <td>0</td>\n",
       "      <td>0.264353</td>\n",
       "      <td>0.252283</td>\n",
       "      <td>0.340507</td>\n",
       "      <td>0.28</td>\n",
       "    </tr>\n",
       "    <tr>\n",
       "      <th>2</th>\n",
       "      <td>83681</td>\n",
       "      <td>0</td>\n",
       "      <td>0</td>\n",
       "      <td>0</td>\n",
       "      <td>0</td>\n",
       "      <td>1</td>\n",
       "      <td>0</td>\n",
       "      <td>0</td>\n",
       "      <td>2</td>\n",
       "      <td>0</td>\n",
       "      <td>...</td>\n",
       "      <td>0</td>\n",
       "      <td>0</td>\n",
       "      <td>0</td>\n",
       "      <td>0</td>\n",
       "      <td>0</td>\n",
       "      <td>0</td>\n",
       "      <td>0.197989</td>\n",
       "      <td>0.175165</td>\n",
       "      <td>0.326517</td>\n",
       "      <td>0.18</td>\n",
       "    </tr>\n",
       "    <tr>\n",
       "      <th>3</th>\n",
       "      <td>72086</td>\n",
       "      <td>0</td>\n",
       "      <td>0</td>\n",
       "      <td>0</td>\n",
       "      <td>0</td>\n",
       "      <td>0</td>\n",
       "      <td>0</td>\n",
       "      <td>0</td>\n",
       "      <td>0</td>\n",
       "      <td>0</td>\n",
       "      <td>...</td>\n",
       "      <td>0</td>\n",
       "      <td>0</td>\n",
       "      <td>0</td>\n",
       "      <td>0</td>\n",
       "      <td>0</td>\n",
       "      <td>0</td>\n",
       "      <td>0.332618</td>\n",
       "      <td>0.380384</td>\n",
       "      <td>0.739301</td>\n",
       "      <td>0.43</td>\n",
       "    </tr>\n",
       "    <tr>\n",
       "      <th>4</th>\n",
       "      <td>78464</td>\n",
       "      <td>0</td>\n",
       "      <td>0</td>\n",
       "      <td>0</td>\n",
       "      <td>0</td>\n",
       "      <td>14</td>\n",
       "      <td>0</td>\n",
       "      <td>0</td>\n",
       "      <td>0</td>\n",
       "      <td>0</td>\n",
       "      <td>...</td>\n",
       "      <td>0</td>\n",
       "      <td>0</td>\n",
       "      <td>0</td>\n",
       "      <td>0</td>\n",
       "      <td>0</td>\n",
       "      <td>0</td>\n",
       "      <td>0.342136</td>\n",
       "      <td>0.297252</td>\n",
       "      <td>0.329870</td>\n",
       "      <td>0.35</td>\n",
       "    </tr>\n",
       "    <tr>\n",
       "      <th>...</th>\n",
       "      <td>...</td>\n",
       "      <td>...</td>\n",
       "      <td>...</td>\n",
       "      <td>...</td>\n",
       "      <td>...</td>\n",
       "      <td>...</td>\n",
       "      <td>...</td>\n",
       "      <td>...</td>\n",
       "      <td>...</td>\n",
       "      <td>...</td>\n",
       "      <td>...</td>\n",
       "      <td>...</td>\n",
       "      <td>...</td>\n",
       "      <td>...</td>\n",
       "      <td>...</td>\n",
       "      <td>...</td>\n",
       "      <td>...</td>\n",
       "      <td>...</td>\n",
       "      <td>...</td>\n",
       "      <td>...</td>\n",
       "      <td>...</td>\n",
       "    </tr>\n",
       "    <tr>\n",
       "      <th>109333</th>\n",
       "      <td>105819</td>\n",
       "      <td>0</td>\n",
       "      <td>0</td>\n",
       "      <td>0</td>\n",
       "      <td>0</td>\n",
       "      <td>3</td>\n",
       "      <td>0</td>\n",
       "      <td>0</td>\n",
       "      <td>0</td>\n",
       "      <td>0</td>\n",
       "      <td>...</td>\n",
       "      <td>0</td>\n",
       "      <td>0</td>\n",
       "      <td>0</td>\n",
       "      <td>0</td>\n",
       "      <td>0</td>\n",
       "      <td>2</td>\n",
       "      <td>0.185373</td>\n",
       "      <td>0.157750</td>\n",
       "      <td>0.344623</td>\n",
       "      <td>0.13</td>\n",
       "    </tr>\n",
       "    <tr>\n",
       "      <th>109334</th>\n",
       "      <td>21707</td>\n",
       "      <td>0</td>\n",
       "      <td>0</td>\n",
       "      <td>0</td>\n",
       "      <td>0</td>\n",
       "      <td>0</td>\n",
       "      <td>0</td>\n",
       "      <td>0</td>\n",
       "      <td>0</td>\n",
       "      <td>0</td>\n",
       "      <td>...</td>\n",
       "      <td>0</td>\n",
       "      <td>0</td>\n",
       "      <td>0</td>\n",
       "      <td>0</td>\n",
       "      <td>0</td>\n",
       "      <td>2</td>\n",
       "      <td>0.185373</td>\n",
       "      <td>0.165851</td>\n",
       "      <td>0.383343</td>\n",
       "      <td>0.15</td>\n",
       "    </tr>\n",
       "    <tr>\n",
       "      <th>109335</th>\n",
       "      <td>88990</td>\n",
       "      <td>0</td>\n",
       "      <td>0</td>\n",
       "      <td>0</td>\n",
       "      <td>0</td>\n",
       "      <td>0</td>\n",
       "      <td>0</td>\n",
       "      <td>0</td>\n",
       "      <td>0</td>\n",
       "      <td>0</td>\n",
       "      <td>...</td>\n",
       "      <td>0</td>\n",
       "      <td>0</td>\n",
       "      <td>0</td>\n",
       "      <td>0</td>\n",
       "      <td>0</td>\n",
       "      <td>2</td>\n",
       "      <td>0.260545</td>\n",
       "      <td>0.285394</td>\n",
       "      <td>0.334555</td>\n",
       "      <td>0.29</td>\n",
       "    </tr>\n",
       "    <tr>\n",
       "      <th>109336</th>\n",
       "      <td>76791</td>\n",
       "      <td>0</td>\n",
       "      <td>0</td>\n",
       "      <td>0</td>\n",
       "      <td>0</td>\n",
       "      <td>10</td>\n",
       "      <td>0</td>\n",
       "      <td>0</td>\n",
       "      <td>0</td>\n",
       "      <td>0</td>\n",
       "      <td>...</td>\n",
       "      <td>0</td>\n",
       "      <td>0</td>\n",
       "      <td>0</td>\n",
       "      <td>0</td>\n",
       "      <td>0</td>\n",
       "      <td>2</td>\n",
       "      <td>0.498814</td>\n",
       "      <td>0.435545</td>\n",
       "      <td>0.338023</td>\n",
       "      <td>0.35</td>\n",
       "    </tr>\n",
       "    <tr>\n",
       "      <th>109337</th>\n",
       "      <td>59695</td>\n",
       "      <td>0</td>\n",
       "      <td>0</td>\n",
       "      <td>0</td>\n",
       "      <td>0</td>\n",
       "      <td>19</td>\n",
       "      <td>0</td>\n",
       "      <td>0</td>\n",
       "      <td>2</td>\n",
       "      <td>0</td>\n",
       "      <td>...</td>\n",
       "      <td>0</td>\n",
       "      <td>0</td>\n",
       "      <td>0</td>\n",
       "      <td>0</td>\n",
       "      <td>0</td>\n",
       "      <td>2</td>\n",
       "      <td>0.311183</td>\n",
       "      <td>0.312208</td>\n",
       "      <td>0.336277</td>\n",
       "      <td>0.30</td>\n",
       "    </tr>\n",
       "  </tbody>\n",
       "</table>\n",
       "<p>109338 rows × 598 columns</p>\n",
       "</div>"
      ],
      "text/plain": [
       "            id  V_1  V_2  V_3  V_4  V_5  V_6  V_7  V_8  V_9  ...  \\\n",
       "0        64724    0    0    0    0    0    0    0    1    0  ...   \n",
       "1        92844    0    0    0    0    0    0    0    1    0  ...   \n",
       "2        83681    0    0    0    0    1    0    0    2    0  ...   \n",
       "3        72086    0    0    0    0    0    0    0    0    0  ...   \n",
       "4        78464    0    0    0    0   14    0    0    0    0  ...   \n",
       "...        ...  ...  ...  ...  ...  ...  ...  ...  ...  ...  ...   \n",
       "109333  105819    0    0    0    0    3    0    0    0    0  ...   \n",
       "109334   21707    0    0    0    0    0    0    0    0    0  ...   \n",
       "109335   88990    0    0    0    0    0    0    0    0    0  ...   \n",
       "109336   76791    0    0    0    0   10    0    0    0    0  ...   \n",
       "109337   59695    0    0    0    0   19    0    0    2    0  ...   \n",
       "\n",
       "        V_434_Health Care Technology  V_434_Real Estate Investment Trusts  \\\n",
       "0                                  0                                    0   \n",
       "1                                  0                                    0   \n",
       "2                                  0                                    0   \n",
       "3                                  0                                    0   \n",
       "4                                  0                                    0   \n",
       "...                              ...                                  ...   \n",
       "109333                             0                                    0   \n",
       "109334                             0                                    0   \n",
       "109335                             0                                    0   \n",
       "109336                             0                                    0   \n",
       "109337                             0                                    0   \n",
       "\n",
       "        V_434_Provincial  V_434_Internet & Catalog Retail  V_434_Libraries  \\\n",
       "0                      0                                0                0   \n",
       "1                      0                                0                0   \n",
       "2                      0                                0                0   \n",
       "3                      0                                0                0   \n",
       "4                      0                                0                0   \n",
       "...                  ...                              ...              ...   \n",
       "109333                 0                                0                0   \n",
       "109334                 0                                0                0   \n",
       "109335                 0                                0                0   \n",
       "109336                 0                                0                0   \n",
       "109337                 0                                0                0   \n",
       "\n",
       "        kfold    pred_2    pred_3    pred_4  pred_1  \n",
       "0           0  0.212555  0.159930  0.356627    0.27  \n",
       "1           0  0.264353  0.252283  0.340507    0.28  \n",
       "2           0  0.197989  0.175165  0.326517    0.18  \n",
       "3           0  0.332618  0.380384  0.739301    0.43  \n",
       "4           0  0.342136  0.297252  0.329870    0.35  \n",
       "...       ...       ...       ...       ...     ...  \n",
       "109333      2  0.185373  0.157750  0.344623    0.13  \n",
       "109334      2  0.185373  0.165851  0.383343    0.15  \n",
       "109335      2  0.260545  0.285394  0.334555    0.29  \n",
       "109336      2  0.498814  0.435545  0.338023    0.35  \n",
       "109337      2  0.311183  0.312208  0.336277    0.30  \n",
       "\n",
       "[109338 rows x 598 columns]"
      ]
     },
     "execution_count": 150,
     "metadata": {},
     "output_type": "execute_result"
    }
   ],
   "source": [
    "XTRAIN_PRED = df['pred_1','pred_2','pred_3', 'pred_4']\n",
    "Y_TARGET = df.TARGET"
   ]
  },
  {
   "cell_type": "code",
   "execution_count": 184,
   "id": "8e051629",
   "metadata": {},
   "outputs": [],
   "source": [
    "sample['pred_1'] = np.mean(np.column_stack(rf_test_pred), axis=1)\n",
    "sample['pred_2'] = np.mean(np.column_stack(gbm_test_pred), axis=1)\n",
    "sample['pred_3'] = np.mean(np.column_stack(xgb_test_pred), axis=1)\n",
    "sample['pred_4'] = np.mean(np.column_stack(lg_test_pred), axis=1)"
   ]
  },
  {
   "cell_type": "code",
   "execution_count": 185,
   "id": "7a3becd9",
   "metadata": {},
   "outputs": [],
   "source": [
    "df_test = df_test.merge(sample, on = 'id', how = 'left')"
   ]
  },
  {
   "cell_type": "code",
   "execution_count": 189,
   "id": "8c831e37",
   "metadata": {},
   "outputs": [
    {
     "name": "stdout",
     "output_type": "stream",
     "text": [
      "0 0.7071140001262979\n",
      "1 0.704338665300735\n",
      "2 0.7067148352447231\n"
     ]
    }
   ],
   "source": [
    "useful_features = [\"pred_1\", \"pred_2\",'pred_3','pred_4']\n",
    "df_test = df_test[useful_features]\n",
    "\n",
    "final_predictions = []\n",
    "scores = []\n",
    "for fold in range(3):\n",
    "    xtrain =  df[df['kfold'] != fold].reset_index(drop=True)\n",
    "    xvalid = df[df['kfold'] == fold].reset_index(drop=True)\n",
    "    xtest = df_test.copy()\n",
    "\n",
    "\n",
    "    ytrain = xtrain['TARGET']\n",
    "\n",
    "    yvalid = xvalid['TARGET']\n",
    "    \n",
    "    xtrain = xtrain[useful_features]\n",
    "    xvalid = xvalid[useful_features]\n",
    "    \n",
    "    model = LogisticRegression()\n",
    "    model.fit(xtrain, ytrain)\n",
    "    \n",
    "    preds_valid = model.predict_proba(xvalid)[:,1]\n",
    "    test_preds = model.predict_proba(xtest)[:,1]\n",
    "    final_predictions.append(test_preds)\n",
    "    print(fold, roc_auc_score(yvalid, preds_valid))\n"
   ]
  },
  {
   "cell_type": "code",
   "execution_count": 190,
   "id": "a8edbb25",
   "metadata": {},
   "outputs": [],
   "source": [
    "preds = np.mean(np.column_stack(final_predictions), axis=1)"
   ]
  },
  {
   "cell_type": "code",
   "execution_count": 208,
   "id": "e0b537fe",
   "metadata": {},
   "outputs": [
    {
     "data": {
      "text/html": [
       "<div>\n",
       "<style scoped>\n",
       "    .dataframe tbody tr th:only-of-type {\n",
       "        vertical-align: middle;\n",
       "    }\n",
       "\n",
       "    .dataframe tbody tr th {\n",
       "        vertical-align: top;\n",
       "    }\n",
       "\n",
       "    .dataframe thead th {\n",
       "        text-align: right;\n",
       "    }\n",
       "</style>\n",
       "<table border=\"1\" class=\"dataframe\">\n",
       "  <thead>\n",
       "    <tr style=\"text-align: right;\">\n",
       "      <th></th>\n",
       "      <th>id</th>\n",
       "    </tr>\n",
       "  </thead>\n",
       "  <tbody>\n",
       "    <tr>\n",
       "      <th>0</th>\n",
       "      <td>0</td>\n",
       "    </tr>\n",
       "    <tr>\n",
       "      <th>1</th>\n",
       "      <td>1</td>\n",
       "    </tr>\n",
       "    <tr>\n",
       "      <th>2</th>\n",
       "      <td>2</td>\n",
       "    </tr>\n",
       "    <tr>\n",
       "      <th>3</th>\n",
       "      <td>3</td>\n",
       "    </tr>\n",
       "    <tr>\n",
       "      <th>4</th>\n",
       "      <td>4</td>\n",
       "    </tr>\n",
       "    <tr>\n",
       "      <th>...</th>\n",
       "      <td>...</td>\n",
       "    </tr>\n",
       "    <tr>\n",
       "      <th>110894</th>\n",
       "      <td>110894</td>\n",
       "    </tr>\n",
       "    <tr>\n",
       "      <th>110895</th>\n",
       "      <td>110895</td>\n",
       "    </tr>\n",
       "    <tr>\n",
       "      <th>110896</th>\n",
       "      <td>110896</td>\n",
       "    </tr>\n",
       "    <tr>\n",
       "      <th>110897</th>\n",
       "      <td>110897</td>\n",
       "    </tr>\n",
       "    <tr>\n",
       "      <th>110898</th>\n",
       "      <td>110898</td>\n",
       "    </tr>\n",
       "  </tbody>\n",
       "</table>\n",
       "<p>110899 rows × 1 columns</p>\n",
       "</div>"
      ],
      "text/plain": [
       "            id\n",
       "0            0\n",
       "1            1\n",
       "2            2\n",
       "3            3\n",
       "4            4\n",
       "...        ...\n",
       "110894  110894\n",
       "110895  110895\n",
       "110896  110896\n",
       "110897  110897\n",
       "110898  110898\n",
       "\n",
       "[110899 rows x 1 columns]"
      ]
     },
     "execution_count": 208,
     "metadata": {},
     "output_type": "execute_result"
    }
   ],
   "source": [
    "testfile = pd.read_csv('Week8_test.csv', usecols = ['id'])\n",
    "testfile"
   ]
  },
  {
   "cell_type": "code",
   "execution_count": 243,
   "id": "586e1bc9",
   "metadata": {},
   "outputs": [],
   "source": [
    "testfile['TARGET'] = preds"
   ]
  },
  {
   "cell_type": "code",
   "execution_count": 244,
   "id": "886e43c9",
   "metadata": {},
   "outputs": [],
   "source": [
    "testfile['TARGET'] = np.where(testfile['TARGET'] <0.5 , 0,1)"
   ]
  },
  {
   "cell_type": "code",
   "execution_count": 215,
   "id": "4ffd63e6",
   "metadata": {},
   "outputs": [],
   "source": [
    "testfile.to_csv(\"submission1.csv\", index=False)"
   ]
  },
  {
   "cell_type": "markdown",
   "id": "36ce17ff",
   "metadata": {},
   "source": [
    "# ATTEMPT 2"
   ]
  },
  {
   "cell_type": "code",
   "execution_count": 234,
   "id": "8197361f",
   "metadata": {},
   "outputs": [],
   "source": [
    "X= df.drop(['id', 'TARGET'], axis=1)\n",
    "y = df.TARGET"
   ]
  },
  {
   "cell_type": "code",
   "execution_count": 238,
   "id": "c3a05aca",
   "metadata": {},
   "outputs": [],
   "source": [
    "undersample = RandomUnderSampler(sampling_strategy= 0.5 , random_state = 5)\n",
    "xtrain1,ytrain1 = undersample.fit_resample(X,y)"
   ]
  },
  {
   "cell_type": "code",
   "execution_count": 239,
   "id": "6dc7e92c",
   "metadata": {},
   "outputs": [],
   "source": [
    "xgb = xgboost.XGBClassifier()\n",
    "X_train, X_test, y_train, y_test = train_test_split(xtrain1, ytrain1, test_size= 0.25, random_state= 42)"
   ]
  },
  {
   "cell_type": "code",
   "execution_count": 245,
   "id": "e7fab23a",
   "metadata": {},
   "outputs": [],
   "source": [
    "xgb.fit(X_train, y_train)\n",
    "pred1 =train_pred = xgb.predict(X_test)    "
   ]
  },
  {
   "cell_type": "code",
   "execution_count": 247,
   "id": "46914c4d",
   "metadata": {},
   "outputs": [
    {
     "name": "stdout",
     "output_type": "stream",
     "text": [
      "0.620786056506263\n"
     ]
    }
   ],
   "source": [
    "print(roc_auc_score(y_test,pred1))"
   ]
  },
  {
   "cell_type": "code",
   "execution_count": 249,
   "id": "dfd524cd",
   "metadata": {},
   "outputs": [],
   "source": [
    "test_set = df_test.drop(['id'], axis =1)"
   ]
  },
  {
   "cell_type": "code",
   "execution_count": 251,
   "id": "fcc246ba",
   "metadata": {},
   "outputs": [],
   "source": [
    "pred1f = xgb.predict(test_set)"
   ]
  },
  {
   "cell_type": "code",
   "execution_count": 261,
   "id": "85371a2e",
   "metadata": {},
   "outputs": [],
   "source": [
    "testfile1= pd.DataFrame(df_test['id'])\n",
    "testfile1['TARGET'] = pred1f"
   ]
  },
  {
   "cell_type": "code",
   "execution_count": 262,
   "id": "600ab48d",
   "metadata": {},
   "outputs": [],
   "source": [
    "testfile1.to_csv(\"submission2.csv\", index=False)"
   ]
  },
  {
   "cell_type": "markdown",
   "id": "4e98ff81",
   "metadata": {},
   "source": [
    "# ATTEMPT 2.5"
   ]
  },
  {
   "cell_type": "code",
   "execution_count": 275,
   "id": "949a97c0",
   "metadata": {},
   "outputs": [
    {
     "name": "stdout",
     "output_type": "stream",
     "text": [
      "0.5991526872873707\n"
     ]
    }
   ],
   "source": [
    "from sklearn.ensemble import ExtraTreesClassifier\n",
    "extratree = ExtraTreesClassifier()\n",
    "extratree.fit(X_train, y_train)\n",
    "pred2_ =train_pred = extratree.predict(X_test)    \n",
    "print(roc_auc_score(y_test,pred2_))\n",
    "test_set = df_test.drop(['id'], axis =1)\n",
    "pred2f = extratree.predict(test_set)"
   ]
  },
  {
   "cell_type": "code",
   "execution_count": 276,
   "id": "b695027a",
   "metadata": {},
   "outputs": [],
   "source": [
    "testfile2_= pd.DataFrame(df_test['id'])\n",
    "testfile2_['TARGET'] = pred2f\n",
    "testfile2_.to_csv(\"submission2__.csv\", index=False)"
   ]
  },
  {
   "cell_type": "markdown",
   "id": "635ed398",
   "metadata": {},
   "source": [
    "# ATTEMPT 3"
   ]
  },
  {
   "cell_type": "code",
   "execution_count": 3,
   "id": "4e84dc16",
   "metadata": {},
   "outputs": [],
   "source": [
    "df3 = pd.read_csv('Week8_train.csv')\n",
    "df_test3 = pd.read_csv('Week8_test.csv') \n",
    "\n",
    "df3.drop(['PARTY_ID'], axis =1, inplace =True)\n",
    "df_test3.drop(['PARTY_ID'], axis =1, inplace =True)\n"
   ]
  },
  {
   "cell_type": "code",
   "execution_count": 4,
   "id": "1af80977",
   "metadata": {},
   "outputs": [
    {
     "data": {
      "text/plain": [
       "Index(['V_245', 'V_271', 'V_301', 'V_304', 'V_316', 'V_400', 'V_410', 'V_434'], dtype='object')"
      ]
     },
     "execution_count": 4,
     "metadata": {},
     "output_type": "execute_result"
    }
   ],
   "source": [
    "df3.select_dtypes(object).columns"
   ]
  },
  {
   "cell_type": "code",
   "execution_count": 5,
   "id": "fbac58c4",
   "metadata": {},
   "outputs": [
    {
     "data": {
      "text/plain": [
       "Index(['V_245', 'V_271', 'V_301', 'V_304', 'V_316', 'V_400', 'V_410', 'V_434'], dtype='object')"
      ]
     },
     "execution_count": 5,
     "metadata": {},
     "output_type": "execute_result"
    }
   ],
   "source": [
    "df_test3.select_dtypes(object).columns"
   ]
  },
  {
   "cell_type": "code",
   "execution_count": 6,
   "id": "d58e2884",
   "metadata": {},
   "outputs": [
    {
     "data": {
      "text/plain": [
       "['V_301', 'V_304', 'V_434']"
      ]
     },
     "execution_count": 6,
     "metadata": {},
     "output_type": "execute_result"
    }
   ],
   "source": [
    "nan = [i for i in df3.columns if df3[i].isna().sum().any()]\n",
    "nan"
   ]
  },
  {
   "cell_type": "code",
   "execution_count": 7,
   "id": "66c21f16",
   "metadata": {},
   "outputs": [
    {
     "data": {
      "text/plain": [
       "(1561, array(['F', 'M', nan], dtype=object))"
      ]
     },
     "execution_count": 7,
     "metadata": {},
     "output_type": "execute_result"
    }
   ],
   "source": [
    "#categorical\n",
    "df3.V_304.isna().sum(), df3.V_304.unique()"
   ]
  },
  {
   "cell_type": "code",
   "execution_count": 8,
   "id": "59e81def",
   "metadata": {},
   "outputs": [
    {
     "data": {
      "text/plain": [
       "(6331, 15)"
      ]
     },
     "execution_count": 8,
     "metadata": {},
     "output_type": "execute_result"
    }
   ],
   "source": [
    "#categorical\n",
    "df3.V_301.isna().sum(), df3.V_301.nunique()"
   ]
  },
  {
   "cell_type": "code",
   "execution_count": 9,
   "id": "65d4e17e",
   "metadata": {},
   "outputs": [
    {
     "data": {
      "text/plain": [
       "(6205, 15)"
      ]
     },
     "execution_count": 9,
     "metadata": {},
     "output_type": "execute_result"
    }
   ],
   "source": [
    "df_test3.V_301.isna().sum(), df3.V_301.nunique()"
   ]
  },
  {
   "cell_type": "code",
   "execution_count": 10,
   "id": "6dd31620",
   "metadata": {},
   "outputs": [
    {
     "data": {
      "text/plain": [
       "(6335, 85)"
      ]
     },
     "execution_count": 10,
     "metadata": {},
     "output_type": "execute_result"
    }
   ],
   "source": [
    "#categorical\n",
    "df3.V_434.isnull().sum(), df3.V_434.nunique()"
   ]
  },
  {
   "cell_type": "code",
   "execution_count": 11,
   "id": "c2aa3b77",
   "metadata": {},
   "outputs": [
    {
     "data": {
      "text/plain": [
       "(6335, 84)"
      ]
     },
     "execution_count": 11,
     "metadata": {},
     "output_type": "execute_result"
    }
   ],
   "source": [
    "#categorical\n",
    "df_test3.V_434.isnull().sum(), df_test3.V_434.nunique()"
   ]
  },
  {
   "cell_type": "code",
   "execution_count": 12,
   "id": "73e3adbb",
   "metadata": {},
   "outputs": [],
   "source": [
    "df3.V_301 = df3.V_301.fillna(value = 'Undefined')\n",
    "df3.V_434 = df3.V_434.fillna(value = 'Undefined')\n",
    "\n",
    "df_test3.V_301 = df3.V_301.fillna(value = 'Undefined')\n",
    "df_test3.V_434 = df3.V_434.fillna(value = 'Undefined')"
   ]
  },
  {
   "cell_type": "code",
   "execution_count": 13,
   "id": "0c872edb",
   "metadata": {},
   "outputs": [],
   "source": [
    "df3.V_304 = df3.V_304.fillna(value = 'M')\n",
    "\n",
    "df_test3.V_304 = df3.V_304.fillna(value = 'M')"
   ]
  },
  {
   "cell_type": "code",
   "execution_count": 14,
   "id": "3d8da60e",
   "metadata": {},
   "outputs": [
    {
     "ename": "NameError",
     "evalue": "name 'cols' is not defined",
     "output_type": "error",
     "traceback": [
      "\u001b[1;31m---------------------------------------------------------------------------\u001b[0m",
      "\u001b[1;31mNameError\u001b[0m                                 Traceback (most recent call last)",
      "Input \u001b[1;32mIn [14]\u001b[0m, in \u001b[0;36m<cell line: 1>\u001b[1;34m()\u001b[0m\n\u001b[1;32m----> 1\u001b[0m \u001b[43mcols\u001b[49m\n",
      "\u001b[1;31mNameError\u001b[0m: name 'cols' is not defined"
     ]
    }
   ],
   "source": [
    "cols"
   ]
  },
  {
   "cell_type": "code",
   "execution_count": null,
   "id": "91163a0b",
   "metadata": {},
   "outputs": [],
   "source": [
    "L1= pd.get_dummies(df3['V_245'], prefix='V_245', drop_first= True)\n",
    "L2= pd.get_dummies(df3['V_271'], prefix='V_271', drop_first= True)\n",
    "L3= pd.get_dummies(df3['V_301'], prefix='V_301', drop_first= True)\n",
    "L4= pd.get_dummies(df3['V_316'], prefix='V_316', drop_first= True)\n",
    "L5= pd.get_dummies(df3['V_400'], prefix='V_400', drop_first= True)\n",
    "L6= pd.get_dummies(df3['V_410'], prefix='V_410', drop_first= True)\n",
    "L7= pd.get_dummies(df3['V_434'], prefix='V_434', drop_first= True)\n",
    "L8= pd.get_dummies(df3['V_304'], prefix='V_304', drop_first= True)"
   ]
  },
  {
   "cell_type": "code",
   "execution_count": null,
   "id": "2425d605",
   "metadata": {},
   "outputs": [],
   "source": [
    "df3 = pd.concat([df3, L1,L2,L3,L4,L5,L6,L7,L8], axis =1)\n",
    "df3"
   ]
  },
  {
   "cell_type": "code",
   "execution_count": null,
   "id": "60722e41",
   "metadata": {},
   "outputs": [],
   "source": [
    "Lt1= pd.get_dummies(df_test3['V_245'], prefix='V_245', drop_first= True)\n",
    "Lt2= pd.get_dummies(df_test3['V_271'], prefix='V_271', drop_first= True)\n",
    "Lt3= pd.get_dummies(df_test3['V_301'], prefix='V_301', drop_first= True)\n",
    "Lt4= pd.get_dummies(df_test3['V_316'], prefix='V_316', drop_first= True)\n",
    "Lt5= pd.get_dummies(df_test3['V_400'], prefix='V_400', drop_first= True)\n",
    "Lt6= pd.get_dummies(df_test3['V_410'], prefix='V_410', drop_first= True)\n",
    "Lt7= pd.get_dummies(df_test3['V_434'], prefix='V_434', drop_first= True)\n",
    "Lt8= pd.get_dummies(df_test3['V_304'], prefix='V_304', drop_first= True)\n",
    "\n",
    "df_test3 = pd.concat([df_test3, Lt1,Lt2,Lt3,Lt4,Lt5,Lt6,Lt7,Lt8], axis =1)\n",
    "df_test3"
   ]
  },
  {
   "cell_type": "code",
   "execution_count": null,
   "id": "34288bf2",
   "metadata": {},
   "outputs": [],
   "source": [
    "df3.drop(['V_245', 'V_271', 'V_301', 'V_304', 'V_316', 'V_400', 'V_410', 'V_434'], axis=1, inplace= True)\n",
    "df_test3.drop(['V_245', 'V_271', 'V_301', 'V_304', 'V_316', 'V_400', 'V_410', 'V_434'], axis=1, inplace= True)"
   ]
  },
  {
   "cell_type": "code",
   "execution_count": 20,
   "id": "112fc7e9",
   "metadata": {},
   "outputs": [],
   "source": [
    "from sklearn.model_selection import GridSearchCV, KFold"
   ]
  },
  {
   "cell_type": "code",
   "execution_count": null,
   "id": "db7cee63",
   "metadata": {},
   "outputs": [],
   "source": [
    "X= df3.drop(['id','TARGET'], axis =1)\n",
    "y=df3.TARGET\n",
    "from xgboost import XGBClassifier\n",
    "undersample = RandomUnderSampler(sampling_strategy= 0.5 , random_state = 5)\n",
    "xtrain3,ytrain3 = undersample.fit_resample(X,y)\n",
    "\n",
    "X_train, X_test, y_train, y_test = train_test_split(xtrain3, ytrain3, test_size= 0.25, random_state= 42)\n",
    "\n",
    "params = {\n",
    "    'n_estimators': [40, 50, 100],\n",
    "    'learning_rate': [0.01,0.05,0.075],\n",
    "    'booster': ['gbtree', 'gblinear'],\n",
    "    'gamma': [0, 0.5, 1],\n",
    "}\n",
    "\n",
    "gs2 = GridSearchCV(XGBClassifier(n_jobs=-1), params, n_jobs=-1, cv=KFold(n_splits=3), scoring='roc_auc')\n",
    "gs2.fit(X_train, y_train)\n",
    "\n",
    "print('Best score:', gs2.best_score_)\n",
    "print('Best score:', gs2.best_params_)"
   ]
  },
  {
   "cell_type": "code",
   "execution_count": 314,
   "id": "efba0766",
   "metadata": {},
   "outputs": [
    {
     "data": {
      "text/plain": [
       "(110899, 595)"
      ]
     },
     "execution_count": 314,
     "metadata": {},
     "output_type": "execute_result"
    }
   ],
   "source": [
    "xgb.fit(X_train, y_train)\n",
    "pred3 =train_pred = xgb.predict(X_test)    \n",
    "\n",
    "print(roc_auc_score(y_test,pred3))\n",
    "\n",
    "test_set = df_test3.drop(['id'], axis =1)\n",
    "\n",
    "pred3f = xgb.predict(test_set)\n",
    "\n",
    "testfile3= pd.DataFrame(df_test3['id'])\n",
    "testfile3['TARGET'] = pred3f\n",
    "\n",
    "testfile3.to_csv(\"submission3.csv\", index=False)"
   ]
  },
  {
   "cell_type": "code",
   "execution_count": 315,
   "id": "aa6604f7",
   "metadata": {},
   "outputs": [
    {
     "data": {
      "text/plain": [
       "(110899, 594)"
      ]
     },
     "execution_count": 315,
     "metadata": {},
     "output_type": "execute_result"
    }
   ],
   "source": []
  },
  {
   "cell_type": "code",
   "execution_count": null,
   "id": "29d73820",
   "metadata": {},
   "outputs": [],
   "source": []
  }
 ],
 "metadata": {
  "kernelspec": {
   "display_name": "Python 3 (ipykernel)",
   "language": "python",
   "name": "python3"
  },
  "language_info": {
   "codemirror_mode": {
    "name": "ipython",
    "version": 3
   },
   "file_extension": ".py",
   "mimetype": "text/x-python",
   "name": "python",
   "nbconvert_exporter": "python",
   "pygments_lexer": "ipython3",
   "version": "3.9.12"
  }
 },
 "nbformat": 4,
 "nbformat_minor": 5
}
